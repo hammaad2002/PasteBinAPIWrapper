{
  "nbformat": 4,
  "nbformat_minor": 0,
  "metadata": {
    "colab": {
      "provenance": [],
      "authorship_tag": "ABX9TyPXG8sAgrhUHqTuvx0bi9rv",
      "include_colab_link": true
    },
    "kernelspec": {
      "name": "python3",
      "display_name": "Python 3"
    },
    "language_info": {
      "name": "python"
    }
  },
  "cells": [
    {
      "cell_type": "markdown",
      "metadata": {
        "id": "view-in-github",
        "colab_type": "text"
      },
      "source": [
        "<a href=\"https://colab.research.google.com/github/hammaad2002/PasteBinAPIWrapper/blob/main/Tutorial_of_Pastebin_API_Wrapper.ipynb\" target=\"_parent\"><img src=\"https://colab.research.google.com/assets/colab-badge.svg\" alt=\"Open In Colab\"/></a>"
      ]
    },
    {
      "cell_type": "code",
      "source": [
        "!pip install PasteBinAPIWrapper"
      ],
      "metadata": {
        "colab": {
          "base_uri": "https://localhost:8080/"
        },
        "id": "KWP6SFTxX-CM",
        "outputId": "b1c417b9-050a-465c-d3c9-22b46344fbef"
      },
      "execution_count": 1,
      "outputs": [
        {
          "output_type": "stream",
          "name": "stdout",
          "text": [
            "Collecting PasteBinAPIWrapper\n",
            "  Downloading PasteBinAPIWrapper-0.0.1-py3-none-any.whl (6.4 kB)\n",
            "Requirement already satisfied: requests in /usr/local/lib/python3.10/dist-packages (from PasteBinAPIWrapper) (2.31.0)\n",
            "Requirement already satisfied: charset-normalizer<4,>=2 in /usr/local/lib/python3.10/dist-packages (from requests->PasteBinAPIWrapper) (3.3.0)\n",
            "Requirement already satisfied: idna<4,>=2.5 in /usr/local/lib/python3.10/dist-packages (from requests->PasteBinAPIWrapper) (3.4)\n",
            "Requirement already satisfied: urllib3<3,>=1.21.1 in /usr/local/lib/python3.10/dist-packages (from requests->PasteBinAPIWrapper) (2.0.6)\n",
            "Requirement already satisfied: certifi>=2017.4.17 in /usr/local/lib/python3.10/dist-packages (from requests->PasteBinAPIWrapper) (2023.7.22)\n",
            "Installing collected packages: PasteBinAPIWrapper\n",
            "Successfully installed PasteBinAPIWrapper-0.0.1\n"
          ]
        }
      ]
    },
    {
      "cell_type": "code",
      "execution_count": 2,
      "metadata": {
        "id": "nl_qHu70m0r1"
      },
      "outputs": [],
      "source": [
        "from PasteBinAPIWrapper import wrapper"
      ]
    },
    {
      "cell_type": "code",
      "source": [
        "username = 'haste_69'\n",
        "password = \"xxxxxxxxxxxxxxxx\""
      ],
      "metadata": {
        "id": "VSXvip8ZD1g4"
      },
      "execution_count": null,
      "outputs": []
    },
    {
      "cell_type": "code",
      "source": [
        "api_user_name = username\n",
        "api_user_password = password\n",
        "api_dev_key = \"xxxxxxxxxxxxxxxxxxxxxxxxxx\""
      ],
      "metadata": {
        "id": "aonOVN1PnKsn"
      },
      "execution_count": null,
      "outputs": []
    },
    {
      "cell_type": "markdown",
      "source": [
        "**Creating an instance of a class**"
      ],
      "metadata": {
        "id": "_aPxUO4hnjoZ"
      }
    },
    {
      "cell_type": "code",
      "source": [
        "instance = pasteBinAPIWrapper(api_user_name, api_user_password, api_dev_key)"
      ],
      "metadata": {
        "id": "mIBCpSUPnpPk"
      },
      "execution_count": null,
      "outputs": []
    },
    {
      "cell_type": "markdown",
      "source": [
        "**Getting the user's API key**"
      ],
      "metadata": {
        "id": "wy-odpOnni4V"
      }
    },
    {
      "cell_type": "code",
      "source": [
        "instance.get_api_user_key()"
      ],
      "metadata": {
        "colab": {
          "base_uri": "https://localhost:8080/",
          "height": 35
        },
        "id": "JBAmS_Yrn7WI",
        "outputId": "62b0b3ad-364f-40cc-af05-78d7ce7acd2a"
      },
      "execution_count": null,
      "outputs": [
        {
          "output_type": "execute_result",
          "data": {
            "text/plain": [
              "'7fe599bfcade5f9fa3a4f596b847c934'"
            ],
            "application/vnd.google.colaboratory.intrinsic+json": {
              "type": "string"
            }
          },
          "metadata": {},
          "execution_count": 6
        }
      ]
    },
    {
      "cell_type": "markdown",
      "source": [
        "**Creating paste in user's account**"
      ],
      "metadata": {
        "id": "ZFTOxEVln-x5"
      }
    },
    {
      "cell_type": "code",
      "source": [
        "api_paste_code = 'new paste created using my own created API wrapper' # content of the file\n",
        "use_api_user_key = True       # or else the new paste will be in guest mode\n",
        "api_paste_name = 'WRAPPER CREATED API' # file name\n",
        "api_paste_format = None       # this will now automatically be stored as text if you have code let's say of MATLAB then pass 'matlab' over here in string\n",
        "api_paste_private = 2         # this paste will be private in my ID\n",
        "api_paste_expire_date = '10M' # this paste will be expired after 10 minutes. If you want unlimited time or no expiry then pass 'None' or 'N'\n",
        "api_folder_key = 'Pvpcw9JW'   # this is the folder key where the new paste will be stored\n",
        "instance.create_paste(api_paste_code, use_api_user_key, api_paste_name,\n",
        "                      api_paste_format, api_paste_private, api_paste_expire_date,\n",
        "                      api_folder_key)"
      ],
      "metadata": {
        "colab": {
          "base_uri": "https://localhost:8080/",
          "height": 35
        },
        "id": "0cPANofzoD9_",
        "outputId": "9275a409-ba36-4753-8909-8c6bd37e73a0"
      },
      "execution_count": null,
      "outputs": [
        {
          "output_type": "execute_result",
          "data": {
            "text/plain": [
              "'https://pastebin.com/79AaHSEh'"
            ],
            "application/vnd.google.colaboratory.intrinsic+json": {
              "type": "string"
            }
          },
          "metadata": {},
          "execution_count": 7
        }
      ]
    },
    {
      "cell_type": "markdown",
      "source": [
        "**Listing all the pastes stored in the ID**"
      ],
      "metadata": {
        "id": "Bdpeqkqqq6go"
      }
    },
    {
      "cell_type": "code",
      "source": [
        "print(instance.list_all_paste(api_results_limit = 100)) #using print function here for properly outputting the data"
      ],
      "metadata": {
        "colab": {
          "base_uri": "https://localhost:8080/"
        },
        "id": "SjVHr57rrEDQ",
        "outputId": "a0ceb23b-dae9-4bdf-d4bb-365817812f70"
      },
      "execution_count": null,
      "outputs": [
        {
          "output_type": "stream",
          "name": "stdout",
          "text": [
            "<paste>\n",
            "\t<paste_key>jLUqTR8P</paste_key>\n",
            "\t<paste_date>1621441159</paste_date>\n",
            "\t<paste_title></paste_title>\n",
            "\t<paste_size>178</paste_size>\n",
            "\t<paste_expire_date>0</paste_expire_date>\n",
            "\t<paste_private>0</paste_private>\n",
            "\t<paste_format_long>None</paste_format_long>\n",
            "\t<paste_format_short>text</paste_format_short>\n",
            "\t<paste_url>https://pastebin.com/jLUqTR8P</paste_url>\n",
            "\t<paste_hits>20</paste_hits>\n",
            "</paste>\n",
            "<paste>\n",
            "\t<paste_key>uN9F0w5B</paste_key>\n",
            "\t<paste_date>1696437540</paste_date>\n",
            "\t<paste_title></paste_title>\n",
            "\t<paste_size>3</paste_size>\n",
            "\t<paste_expire_date>0</paste_expire_date>\n",
            "\t<paste_private>0</paste_private>\n",
            "\t<paste_format_long>None</paste_format_long>\n",
            "\t<paste_format_short>text</paste_format_short>\n",
            "\t<paste_url>https://pastebin.com/uN9F0w5B</paste_url>\n",
            "\t<paste_hits>3</paste_hits>\n",
            "</paste>\n",
            "<paste>\n",
            "\t<paste_key>79AaHSEh</paste_key>\n",
            "\t<paste_date>1696438598</paste_date>\n",
            "\t<paste_title>WRAPPER CREATED API</paste_title>\n",
            "\t<paste_size>50</paste_size>\n",
            "\t<paste_expire_date>1696439198</paste_expire_date>\n",
            "\t<paste_private>2</paste_private>\n",
            "\t<paste_format_long>None</paste_format_long>\n",
            "\t<paste_format_short>text</paste_format_short>\n",
            "\t<paste_url>https://pastebin.com/79AaHSEh</paste_url>\n",
            "\t<paste_hits>0</paste_hits>\n",
            "</paste>\n"
          ]
        }
      ]
    },
    {
      "cell_type": "markdown",
      "source": [
        "**Deleting a paste of user**"
      ],
      "metadata": {
        "id": "Yvj25lvKrfbx"
      }
    },
    {
      "cell_type": "code",
      "source": [
        "api_paste_key = '79AaHSEh'\n",
        "instance.delete_paste(api_paste_key)"
      ],
      "metadata": {
        "colab": {
          "base_uri": "https://localhost:8080/",
          "height": 35
        },
        "id": "R35DfkJYrfLu",
        "outputId": "538df26b-2410-467e-bafd-527b64be8301"
      },
      "execution_count": null,
      "outputs": [
        {
          "output_type": "execute_result",
          "data": {
            "text/plain": [
              "'Paste Removed'"
            ],
            "application/vnd.google.colaboratory.intrinsic+json": {
              "type": "string"
            }
          },
          "metadata": {},
          "execution_count": 10
        }
      ]
    },
    {
      "cell_type": "markdown",
      "source": [
        "**Printing information and settings of the user**"
      ],
      "metadata": {
        "id": "k1MEYh8isGbV"
      }
    },
    {
      "cell_type": "code",
      "source": [
        "print(instance.user_info_and_settings())"
      ],
      "metadata": {
        "colab": {
          "base_uri": "https://localhost:8080/"
        },
        "id": "VEPs3yZWsESl",
        "outputId": "7e7a78c0-d4d0-43fa-d7e2-612805ce6690"
      },
      "execution_count": null,
      "outputs": [
        {
          "output_type": "stream",
          "name": "stdout",
          "text": [
            "<user>\n",
            "\t<user_name>haste_69</user_name>\n",
            "\t<user_format_short>text</user_format_short>\n",
            "\t<user_expiration>N</user_expiration>\n",
            "\t<user_avatar_url>@themes/img/guest.png</user_avatar_url>\n",
            "\t<user_private>0</user_private>\n",
            "\t<user_website></user_website>\n",
            "\t<user_email>hammadalikhan2002@gmail.com</user_email>\n",
            "\t<user_location></user_location>\n",
            "\t<user_account_type>0</user_account_type>\n",
            "</user>\n"
          ]
        }
      ]
    },
    {
      "cell_type": "markdown",
      "source": [
        "**Getting raw data of any of user's paste (private, unlisted or public)**"
      ],
      "metadata": {
        "id": "AAP6EBuWsO6o"
      }
    },
    {
      "cell_type": "code",
      "source": [
        "api_paste_key = 'uN9F0w5B'\n",
        "print(instance.get_raw_paste_output(api_paste_key))"
      ],
      "metadata": {
        "colab": {
          "base_uri": "https://localhost:8080/"
        },
        "id": "SeWZANy1siEZ",
        "outputId": "c332019f-8260-4260-972a-62acbdae37cb"
      },
      "execution_count": null,
      "outputs": [
        {
          "output_type": "stream",
          "name": "stdout",
          "text": [
            "Exp\n"
          ]
        }
      ]
    },
    {
      "cell_type": "markdown",
      "source": [
        "**Getting raw data of any unlisted or public paste (not limited to only of the user's paste but any public and unlisted paste on pastebin)**"
      ],
      "metadata": {
        "id": "Sff_gr0psuDh"
      }
    },
    {
      "cell_type": "code",
      "source": [
        "api_paste_key = 'cN64gfGT'\n",
        "print(instance.get_raw_paste_any(api_paste_key))"
      ],
      "metadata": {
        "colab": {
          "base_uri": "https://localhost:8080/"
        },
        "id": "l65H9Koosuqe",
        "outputId": "379b5ebf-136f-40c7-af63-545ee015464d"
      },
      "execution_count": null,
      "outputs": [
        {
          "output_type": "stream",
          "name": "stdout",
          "text": [
            "#include <cmath>\r\n",
            "#include <iostream>\r\n",
            "#include <vector>\r\n",
            "\r\n",
            "using std::cin;\r\n",
            "using std::cout;\r\n",
            "using std::max;\r\n",
            "using std::min;\r\n",
            "using std::string;\r\n",
            "using std::vector;\r\n",
            "using Ll = long long;\r\n",
            "\r\n",
            "const int k8 = 8;\r\n",
            "const int k256 = 256;\r\n",
            "int len;\r\n",
            "vector<Ll> ar;\r\n",
            "vector<int> less_than;\r\n",
            "vector<Ll> hlp;\r\n",
            "\r\n",
            "Ll Byte(Ll num, int par) {\r\n",
            "  Ll kk = ((1LL << k8) - 1) * (1LL << (k8 * par));\r\n",
            "  Ll res = num & kk;\r\n",
            "  Ll div = (1LL << (k8 * par));\r\n",
            "  res /= div;\r\n",
            "  return res;\r\n",
            "}\r\n",
            "\r\n",
            "void LSD(int par) {\r\n",
            "  // cout << \"GO\\n\";\r\n",
            "  // cout << \"par = \" << par << \"\\n\";\r\n",
            "  less_than.assign(k256, 0);\r\n",
            "  for (int id = 0; id < len; ++id) {\r\n",
            "    Ll bt = Byte(ar[id], par);\r\n",
            "    // cout << \"id = \" << id << \"\\n\";\r\n",
            "    // cout << \"ar[id] = \" << ar[id] << \"\\n\";\r\n",
            "    // cout << \"bt = \" << bt << \"\\n\";\r\n",
            "    less_than[bt]++;\r\n",
            "  }\r\n",
            "  // cout << \"A\\n\";\r\n",
            "  int cnt = 0;\r\n",
            "  for (int id = 0; id < k256; ++id) {\r\n",
            "    int point = less_than[id];\r\n",
            "    less_than[id] = cnt;\r\n",
            "    cnt += point;\r\n",
            "  }\r\n",
            "  // cout << \"B\\n\";\r\n",
            "  for (int id = 0; id < len; ++id) {\r\n",
            "    Ll bt = Byte(ar[id], par);\r\n",
            "    hlp[less_than[bt]] = ar[id];\r\n",
            "    less_than[bt]++;\r\n",
            "  }\r\n",
            "  ar = hlp;\r\n",
            "}\r\n",
            "\r\n",
            "int main() {\r\n",
            "  std::ios::sync_with_stdio(false);\r\n",
            "  std::cin.tie(0);\r\n",
            "  std::cout.tie(0);\r\n",
            "  cin >> len;\r\n",
            "  ar.resize(len);\r\n",
            "  hlp.resize(len);\r\n",
            "  for (Ll& el : ar) {\r\n",
            "    cin >> el;\r\n",
            "  }\r\n",
            "  for (int par = 0; par < k8; ++par) {\r\n",
            "    LSD(par);\r\n",
            "  }\r\n",
            "  for (Ll el : ar) {\r\n",
            "    cout << el << \"\\n\";\r\n",
            "  }\r\n",
            "}\r\n",
            "\n"
          ]
        }
      ]
    },
    {
      "cell_type": "code",
      "source": [
        "api_paste_key = 'https://pastebin.com/cN64gfGT'\n",
        "print(instance.get_raw_paste_any(api_paste_key))"
      ],
      "metadata": {
        "colab": {
          "base_uri": "https://localhost:8080/"
        },
        "id": "M0BQp45WidrN",
        "outputId": "3203143c-5cfb-4590-d874-df6996b6ffb9"
      },
      "execution_count": null,
      "outputs": [
        {
          "output_type": "stream",
          "name": "stdout",
          "text": [
            "#include <cmath>\r\n",
            "#include <iostream>\r\n",
            "#include <vector>\r\n",
            "\r\n",
            "using std::cin;\r\n",
            "using std::cout;\r\n",
            "using std::max;\r\n",
            "using std::min;\r\n",
            "using std::string;\r\n",
            "using std::vector;\r\n",
            "using Ll = long long;\r\n",
            "\r\n",
            "const int k8 = 8;\r\n",
            "const int k256 = 256;\r\n",
            "int len;\r\n",
            "vector<Ll> ar;\r\n",
            "vector<int> less_than;\r\n",
            "vector<Ll> hlp;\r\n",
            "\r\n",
            "Ll Byte(Ll num, int par) {\r\n",
            "  Ll kk = ((1LL << k8) - 1) * (1LL << (k8 * par));\r\n",
            "  Ll res = num & kk;\r\n",
            "  Ll div = (1LL << (k8 * par));\r\n",
            "  res /= div;\r\n",
            "  return res;\r\n",
            "}\r\n",
            "\r\n",
            "void LSD(int par) {\r\n",
            "  // cout << \"GO\\n\";\r\n",
            "  // cout << \"par = \" << par << \"\\n\";\r\n",
            "  less_than.assign(k256, 0);\r\n",
            "  for (int id = 0; id < len; ++id) {\r\n",
            "    Ll bt = Byte(ar[id], par);\r\n",
            "    // cout << \"id = \" << id << \"\\n\";\r\n",
            "    // cout << \"ar[id] = \" << ar[id] << \"\\n\";\r\n",
            "    // cout << \"bt = \" << bt << \"\\n\";\r\n",
            "    less_than[bt]++;\r\n",
            "  }\r\n",
            "  // cout << \"A\\n\";\r\n",
            "  int cnt = 0;\r\n",
            "  for (int id = 0; id < k256; ++id) {\r\n",
            "    int point = less_than[id];\r\n",
            "    less_than[id] = cnt;\r\n",
            "    cnt += point;\r\n",
            "  }\r\n",
            "  // cout << \"B\\n\";\r\n",
            "  for (int id = 0; id < len; ++id) {\r\n",
            "    Ll bt = Byte(ar[id], par);\r\n",
            "    hlp[less_than[bt]] = ar[id];\r\n",
            "    less_than[bt]++;\r\n",
            "  }\r\n",
            "  ar = hlp;\r\n",
            "}\r\n",
            "\r\n",
            "int main() {\r\n",
            "  std::ios::sync_with_stdio(false);\r\n",
            "  std::cin.tie(0);\r\n",
            "  std::cout.tie(0);\r\n",
            "  cin >> len;\r\n",
            "  ar.resize(len);\r\n",
            "  hlp.resize(len);\r\n",
            "  for (Ll& el : ar) {\r\n",
            "    cin >> el;\r\n",
            "  }\r\n",
            "  for (int par = 0; par < k8; ++par) {\r\n",
            "    LSD(par);\r\n",
            "  }\r\n",
            "  for (Ll el : ar) {\r\n",
            "    cout << el << \"\\n\";\r\n",
            "  }\r\n",
            "}\r\n",
            "\n"
          ]
        }
      ]
    }
  ]
}